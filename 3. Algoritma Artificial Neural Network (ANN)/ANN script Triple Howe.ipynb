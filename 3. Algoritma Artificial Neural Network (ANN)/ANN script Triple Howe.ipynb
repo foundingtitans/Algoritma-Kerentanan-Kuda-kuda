{
 "cells": [
  {
   "cell_type": "code",
   "execution_count": 31,
   "metadata": {},
   "outputs": [],
   "source": [
    "# ANN for predicting demand/capasity ratio\n",
    "\n",
    "import matplotlib.pyplot as plt\n",
    "import seaborn as sns\n",
    "from scipy.stats import norm\n",
    "from scipy.optimize import minimize\n",
    "\n",
    "import visualkeras as vs\n",
    "\n",
    "import numpy as np\n",
    "import pandas as pd\n",
    "from tensorflow import keras\n",
    "\n",
    "import warnings\n",
    "warnings.filterwarnings('ignore')\n",
    "\n",
    "from sklearn.impute import SimpleImputer\n",
    "from sklearn.preprocessing import LabelEncoder, StandardScaler\n",
    "from sklearn.model_selection import train_test_split\n",
    "from sklearn.metrics import classification_report\n",
    "from sklearn.metrics import accuracy_score\n",
    "\n",
    "from keras.utils import to_categorical\n",
    "from keras.models import Sequential\n",
    "from keras.layers import Dense, Flatten, Dropout\n",
    "from keras.callbacks import EarlyStopping\n",
    "from keras.optimizers import Adam"
   ]
  },
  {
   "cell_type": "code",
   "execution_count": 32,
   "metadata": {},
   "outputs": [],
   "source": [
    "df = pd.read_csv('C:/Users/febyf/Documents/TGA FEBY/SAP HASIL RUNNING/TRIPLE HOWE/CSV/Rekap Data/DATA KEAMANAN TUNGGAL')"
   ]
  },
  {
   "cell_type": "code",
   "execution_count": 33,
   "metadata": {},
   "outputs": [],
   "source": [
    "data = df"
   ]
  },
  {
   "cell_type": "code",
   "execution_count": 34,
   "metadata": {},
   "outputs": [],
   "source": [
    "#Split data menjadi input dan output\n",
    "x = data.iloc[:, [0, 1, 2]].values      # input\n",
    "y = data.iloc[:, 3 ].values             # output"
   ]
  },
  {
   "cell_type": "markdown",
   "metadata": {},
   "source": [
    "# CLEANING DATA"
   ]
  },
  {
   "cell_type": "code",
   "execution_count": 35,
   "metadata": {},
   "outputs": [],
   "source": [
    "#simpleimputer : untuk menangani nilai hilang\n",
    "#missingvalues : menentukan apa yang harus dianggap oleh imputer sebagai nilai yang hilang dengan ditulis 'np.nan'\n",
    "#mostfrequent  : imuter mengganti 'np.nan' dengan nilai yang paling sering muncul pada kolom 'np.nan' berada\n",
    "\n",
    "\n",
    "imputer = SimpleImputer(missing_values = np.nan,strategy = 'most_frequent')"
   ]
  },
  {
   "cell_type": "code",
   "execution_count": 36,
   "metadata": {},
   "outputs": [],
   "source": [
    "#mengubah y menjadi array 2D dengan satu kolom dan jumlah baris\n",
    "y = y.reshape(-1, 1)\n"
   ]
  },
  {
   "cell_type": "code",
   "execution_count": 37,
   "metadata": {},
   "outputs": [],
   "source": [
    "#fit_transform adalah metode dari imputer yang melakukan dua langkah: fit dan transform\n",
    "#fit adalah proses dimana imputer belajar tentang data, lebih spesifik lagi, belajar nilai yang akan digunakan untuk mengganti nilai yang hilang\n",
    "#transform adalah proses penggantian nilai yang hilang dengan nilai yang telah dipelajari (fit).\n",
    "\n",
    "x = imputer.fit_transform(x)\n",
    "y = imputer.fit_transform(y)"
   ]
  },
  {
   "cell_type": "markdown",
   "metadata": {},
   "source": [
    "# Encoding Dataset\n",
    "Converting string data to numerical values so I can process the data"
   ]
  },
  {
   "cell_type": "code",
   "execution_count": 38,
   "metadata": {},
   "outputs": [
    {
     "data": {
      "text/plain": [
       "Index(['Aman Terhadap Penampang'], dtype='object')"
      ]
     },
     "execution_count": 38,
     "metadata": {},
     "output_type": "execute_result"
    }
   ],
   "source": [
    "#digunakan untuk memilih semua kolom dalam DataFrame data yang tipe datanya adalah 'object' (string atau teks)\n",
    "col_obj = data.select_dtypes(include = 'object').columns\n",
    "col_obj"
   ]
  },
  {
   "cell_type": "code",
   "execution_count": 39,
   "metadata": {},
   "outputs": [
    {
     "data": {
      "text/plain": [
       "array([0, 0, 0, 0, 0, 0, 0, 0, 0, 0, 0, 0, 0, 0, 0, 0, 0, 0, 0, 0, 0, 0,\n",
       "       0, 0, 0, 0, 0, 0, 0, 0, 0, 0, 0, 0, 0, 0, 0, 0, 0, 0, 0, 0, 0, 0,\n",
       "       0, 0, 0, 0, 0, 0, 0, 0, 0, 0, 0, 0, 0, 0, 0, 0, 0, 0, 0, 0, 0, 0,\n",
       "       0, 0, 0, 0, 0, 0, 0, 0, 0, 0, 0, 0, 0, 0, 0, 0, 0, 0, 0, 0, 0, 0,\n",
       "       0, 0, 0, 0, 0, 0, 0, 0, 0, 0, 0, 0, 0, 0, 0, 0, 0, 0, 0, 0, 0, 0,\n",
       "       0, 0, 0, 0, 0, 0, 0, 0, 0, 0, 0, 0, 0, 0, 0, 0, 0, 0, 0, 0, 0, 0,\n",
       "       0, 0, 0, 0, 0, 0, 0, 0, 0, 0, 0, 0, 0, 0, 0, 1, 0, 0, 0, 0, 0, 0,\n",
       "       1, 0, 0, 0, 0, 0, 0, 1, 0, 0, 0, 0, 0, 0, 1, 1, 1, 1, 0, 0, 0, 1,\n",
       "       1, 1, 1, 1, 0, 0, 1, 1, 1, 1, 1, 1, 0, 1, 1, 1, 1, 1, 1, 0, 1, 1,\n",
       "       1, 1, 1, 1, 1, 1, 1, 1, 1, 1, 1, 1, 0, 0, 0, 0, 0, 0, 0, 0, 0, 0,\n",
       "       0, 0, 0, 0, 0, 0, 0, 0, 0, 0, 0, 0, 0, 0, 0, 0, 0, 0, 0, 0, 0, 0,\n",
       "       0, 0, 0, 0, 0, 0, 0, 0, 0, 0, 0, 0, 0, 0, 0, 0, 0, 0, 0, 0, 0, 0,\n",
       "       0, 0, 0, 0, 0, 0, 0, 0, 0, 0, 0, 0, 0, 0, 0, 0, 0, 0, 0, 0, 0, 0,\n",
       "       0, 0, 0, 0, 0, 0, 0, 0, 0, 0, 0, 0, 0, 0, 0, 0, 0, 0, 0, 0, 0, 0,\n",
       "       0, 0, 0, 0, 0, 0, 0, 0, 0, 0, 0, 0, 0, 0, 0, 0, 0, 0, 0, 0, 0, 0,\n",
       "       0, 0, 0, 0, 0, 0, 1, 0, 0, 0, 0, 0, 0, 1, 0, 0, 0, 0, 0, 0, 1, 0,\n",
       "       0, 0, 0, 0, 0, 1, 1, 0, 0, 0, 0, 0, 1, 1, 1, 1, 0, 0, 0, 1, 1, 1,\n",
       "       1, 1, 0, 0, 1, 1, 1, 1, 1, 1, 0, 1, 1, 1, 1, 1, 1, 1, 1, 1, 1, 1,\n",
       "       1, 1, 1, 1, 1, 1, 1, 1, 1, 1, 1, 1, 1, 1, 1, 1, 1, 1, 1, 1, 1, 1,\n",
       "       1, 1, 0, 0, 0, 0, 0, 0, 0, 0, 0, 0, 0, 0, 0, 0, 0, 0, 0, 0, 0, 0,\n",
       "       0, 0, 0, 0, 0, 0, 0, 0, 0, 0, 0, 0, 0, 0, 0, 0, 0, 0, 0, 0, 0, 0,\n",
       "       0, 0, 0, 0, 0, 0, 0, 0, 0, 0, 0, 0, 0, 0, 0, 0, 0, 0, 0, 0, 0, 0,\n",
       "       0, 0, 0, 0, 0, 0, 0, 0, 0, 0, 0, 0, 0, 0, 0, 0, 0, 0, 0, 0, 0, 0,\n",
       "       0, 0, 0, 0, 0, 0, 0, 0, 0, 0, 0, 0, 0, 0, 0, 0, 0, 0, 0, 1, 0, 0,\n",
       "       0, 0, 0, 0, 1, 0, 0, 0, 0, 0, 0, 1, 0, 0, 0, 0, 0, 0, 1, 0, 0, 0,\n",
       "       0, 0, 0, 1, 0, 0, 0, 0, 0, 0, 1, 1, 1, 1, 0, 0, 0, 1, 1, 1, 1, 1,\n",
       "       0, 0, 1, 1, 1, 1, 1, 1, 0, 1, 1, 1, 1, 1, 1, 1, 1, 1, 1, 1, 1, 1,\n",
       "       1, 1, 1, 1, 1, 1, 1, 1, 1, 1, 1, 1, 1, 1, 1, 1, 1, 1, 1, 1, 1, 1,\n",
       "       1, 1, 1, 1, 1, 1, 1, 1, 1, 1, 1, 1, 1, 1], dtype=object)"
      ]
     },
     "execution_count": 39,
     "metadata": {},
     "output_type": "execute_result"
    }
   ],
   "source": [
    "#LabelEncoder dari pustaka scikit-learn untuk mengubah label kategorikal dalam array y menjadi representasi numerik.\n",
    "le1 = LabelEncoder()\n",
    "y[:, -1] = le1.fit_transform(y[:, -1])\n",
    "y[:, -1]"
   ]
  },
  {
   "cell_type": "markdown",
   "metadata": {},
   "source": [
    "# Feature Scaling"
   ]
  },
  {
   "cell_type": "code",
   "execution_count": 40,
   "metadata": {},
   "outputs": [],
   "source": [
    "#StandardScaler() untuk menormalkan atau menstandarisasi fitur dalam array x. Proses standarisasi mengubah data sehingga distribusinya memiliki rata-rata 0 dan standar deviasi 1\n",
    "\n",
    "sc = StandardScaler()\n",
    "x = sc.fit_transform(x)\n"
   ]
  },
  {
   "cell_type": "markdown",
   "metadata": {},
   "source": [
    "# Splitting Data to Train and Test Sets"
   ]
  },
  {
   "cell_type": "code",
   "execution_count": 41,
   "metadata": {},
   "outputs": [],
   "source": [
    "x_train, x_test, y_train, y_test = train_test_split(x, y, test_size = 0.3, random_state = 3)"
   ]
  },
  {
   "cell_type": "code",
   "execution_count": 44,
   "metadata": {},
   "outputs": [],
   "source": [
    "#digunakan untuk mengonversi data pelatihan x_train dan y_train menjadi array NumPy dan mengubah tipe data elemennya menjadi float32\n",
    "#Mengonversi data ke float32 dapat mengurangi penggunaan memori dan meningkatkan kecepatan pemrosesan,\n",
    "x_train = np.asarray(x_train).astype('float32')\n",
    "y_train = np.asarray(y_train).astype('float32')"
   ]
  },
  {
   "cell_type": "code",
   "execution_count": 45,
   "metadata": {},
   "outputs": [
    {
     "data": {
      "text/plain": [
       "<Axes: xlabel='Aman Terhadap Penampang', ylabel='count'>"
      ]
     },
     "execution_count": 45,
     "metadata": {},
     "output_type": "execute_result"
    },
    {
     "data": {
      "image/png": "[encoded data removed]",
      "text/plain": [
       "<Figure size 640x480 with 1 Axes>"
      ]
     },
     "metadata": {},
     "output_type": "display_data"
    }
   ],
   "source": [
    "#countplot berguna untuk menampilkan distribusi frekuensi dari variabel kategorikal.\n",
    "cols= [\"#cfe2f3\",\"#d9ead3\"]\n",
    "sns.countplot(x= data[\"Aman Terhadap Penampang\"], palette= cols)"
   ]
  },
  {
   "cell_type": "markdown",
   "metadata": {},
   "source": [
    "# Training Models"
   ]
  },
  {
   "cell_type": "code",
   "execution_count": 46,
   "metadata": {},
   "outputs": [
    {
     "data": {
      "text/plain": [
       "468"
      ]
     },
     "execution_count": 46,
     "metadata": {},
     "output_type": "execute_result"
    }
   ],
   "source": [
    "aman = data['Aman Terhadap Penampang'].value_counts()['Aman']\n",
    "aman"
   ]
  },
  {
   "cell_type": "code",
   "execution_count": 47,
   "metadata": {},
   "outputs": [
    {
     "data": {
      "text/plain": [
       "162"
      ]
     },
     "execution_count": 47,
     "metadata": {},
     "output_type": "execute_result"
    }
   ],
   "source": [
    "tidak_aman = data['Aman Terhadap Penampang'].value_counts()['Tidak Aman']\n",
    "tidak_aman"
   ]
  },
  {
   "cell_type": "code",
   "execution_count": 48,
   "metadata": {},
   "outputs": [
    {
     "data": {
      "text/plain": [
       "3"
      ]
     },
     "execution_count": 48,
     "metadata": {},
     "output_type": "execute_result"
    }
   ],
   "source": [
    "#x_train.shape[1] secara khusus mengembalikan nilai yang menunjukkan berapa banyak fitur (kolom) yang ada dalam data pelatihan x_train.\n",
    "x_train.shape[1]"
   ]
  },
  {
   "cell_type": "code",
   "execution_count": 49,
   "metadata": {},
   "outputs": [
    {
     "name": "stdout",
     "output_type": "stream",
     "text": [
      "Epoch 1/100\n",
      "12/12 [==============================] - 1s 13ms/step - loss: 0.6930 - accuracy: 0.7338 - val_loss: 0.6929 - val_accuracy: 0.7444\n",
      "Epoch 2/100\n",
      "12/12 [==============================] - 0s 3ms/step - loss: 0.6928 - accuracy: 0.7305 - val_loss: 0.6926 - val_accuracy: 0.7444\n",
      "Epoch 3/100\n",
      "12/12 [==============================] - 0s 4ms/step - loss: 0.6925 - accuracy: 0.7305 - val_loss: 0.6923 - val_accuracy: 0.7444\n",
      "Epoch 4/100\n",
      "12/12 [==============================] - 0s 4ms/step - loss: 0.6923 - accuracy: 0.7305 - val_loss: 0.6920 - val_accuracy: 0.7444\n",
      "Epoch 5/100\n",
      "12/12 [==============================] - 0s 4ms/step - loss: 0.6919 - accuracy: 0.7305 - val_loss: 0.6918 - val_accuracy: 0.7444\n",
      "Epoch 6/100\n",
      "12/12 [==============================] - 0s 4ms/step - loss: 0.6917 - accuracy: 0.7305 - val_loss: 0.6915 - val_accuracy: 0.7444\n",
      "Epoch 7/100\n",
      "12/12 [==============================] - 0s 4ms/step - loss: 0.6915 - accuracy: 0.7305 - val_loss: 0.6912 - val_accuracy: 0.7444\n",
      "Epoch 8/100\n",
      "12/12 [==============================] - 0s 3ms/step - loss: 0.6912 - accuracy: 0.7305 - val_loss: 0.6909 - val_accuracy: 0.7444\n",
      "Epoch 9/100\n",
      "12/12 [==============================] - 0s 4ms/step - loss: 0.6909 - accuracy: 0.7305 - val_loss: 0.6906 - val_accuracy: 0.7444\n",
      "Epoch 10/100\n",
      "12/12 [==============================] - 0s 4ms/step - loss: 0.6906 - accuracy: 0.7305 - val_loss: 0.6903 - val_accuracy: 0.7444\n",
      "Epoch 11/100\n",
      "12/12 [==============================] - 0s 3ms/step - loss: 0.6903 - accuracy: 0.7305 - val_loss: 0.6900 - val_accuracy: 0.7444\n",
      "Epoch 12/100\n",
      "12/12 [==============================] - 0s 4ms/step - loss: 0.6900 - accuracy: 0.7305 - val_loss: 0.6897 - val_accuracy: 0.7444\n",
      "Epoch 13/100\n",
      "12/12 [==============================] - 0s 3ms/step - loss: 0.6897 - accuracy: 0.7305 - val_loss: 0.6894 - val_accuracy: 0.7444\n",
      "Epoch 14/100\n",
      "12/12 [==============================] - 0s 3ms/step - loss: 0.6894 - accuracy: 0.7305 - val_loss: 0.6890 - val_accuracy: 0.7444\n",
      "Epoch 15/100\n",
      "12/12 [==============================] - 0s 4ms/step - loss: 0.6891 - accuracy: 0.7305 - val_loss: 0.6887 - val_accuracy: 0.7444\n",
      "Epoch 16/100\n",
      "12/12 [==============================] - 0s 4ms/step - loss: 0.6889 - accuracy: 0.7305 - val_loss: 0.6883 - val_accuracy: 0.7444\n",
      "Epoch 17/100\n",
      "12/12 [==============================] - 0s 3ms/step - loss: 0.6883 - accuracy: 0.7305 - val_loss: 0.6880 - val_accuracy: 0.7444\n",
      "Epoch 18/100\n",
      "12/12 [==============================] - 0s 3ms/step - loss: 0.6881 - accuracy: 0.7305 - val_loss: 0.6876 - val_accuracy: 0.7444\n",
      "Epoch 19/100\n",
      "12/12 [==============================] - 0s 4ms/step - loss: 0.6878 - accuracy: 0.7305 - val_loss: 0.6872 - val_accuracy: 0.7444\n",
      "Epoch 20/100\n",
      "12/12 [==============================] - 0s 3ms/step - loss: 0.6873 - accuracy: 0.7305 - val_loss: 0.6867 - val_accuracy: 0.7444\n",
      "Epoch 21/100\n",
      "12/12 [==============================] - 0s 3ms/step - loss: 0.6868 - accuracy: 0.7305 - val_loss: 0.6863 - val_accuracy: 0.7444\n",
      "Epoch 22/100\n",
      "12/12 [==============================] - 0s 3ms/step - loss: 0.6862 - accuracy: 0.7305 - val_loss: 0.6857 - val_accuracy: 0.7444\n",
      "Epoch 23/100\n",
      "12/12 [==============================] - 0s 4ms/step - loss: 0.6860 - accuracy: 0.7305 - val_loss: 0.6851 - val_accuracy: 0.7444\n",
      "Epoch 24/100\n",
      "12/12 [==============================] - 0s 4ms/step - loss: 0.6851 - accuracy: 0.7305 - val_loss: 0.6845 - val_accuracy: 0.7444\n",
      "Epoch 25/100\n",
      "12/12 [==============================] - 0s 4ms/step - loss: 0.6840 - accuracy: 0.7305 - val_loss: 0.6838 - val_accuracy: 0.7444\n",
      "Epoch 26/100\n",
      "12/12 [==============================] - 0s 4ms/step - loss: 0.6838 - accuracy: 0.7305 - val_loss: 0.6830 - val_accuracy: 0.7444\n",
      "Epoch 27/100\n",
      "12/12 [==============================] - 0s 4ms/step - loss: 0.6831 - accuracy: 0.7305 - val_loss: 0.6821 - val_accuracy: 0.7444\n",
      "Epoch 28/100\n",
      "12/12 [==============================] - 0s 4ms/step - loss: 0.6818 - accuracy: 0.7305 - val_loss: 0.6810 - val_accuracy: 0.7444\n",
      "Epoch 29/100\n",
      "12/12 [==============================] - 0s 3ms/step - loss: 0.6806 - accuracy: 0.7305 - val_loss: 0.6799 - val_accuracy: 0.7444\n",
      "Epoch 30/100\n",
      "12/12 [==============================] - 0s 4ms/step - loss: 0.6800 - accuracy: 0.7305 - val_loss: 0.6786 - val_accuracy: 0.7444\n",
      "Epoch 31/100\n",
      "12/12 [==============================] - 0s 4ms/step - loss: 0.6783 - accuracy: 0.7305 - val_loss: 0.6771 - val_accuracy: 0.7444\n",
      "Epoch 32/100\n",
      "12/12 [==============================] - 0s 4ms/step - loss: 0.6770 - accuracy: 0.7305 - val_loss: 0.6755 - val_accuracy: 0.7444\n",
      "Epoch 33/100\n",
      "12/12 [==============================] - 0s 4ms/step - loss: 0.6743 - accuracy: 0.7305 - val_loss: 0.6737 - val_accuracy: 0.7444\n",
      "Epoch 34/100\n",
      "12/12 [==============================] - 0s 3ms/step - loss: 0.6727 - accuracy: 0.7305 - val_loss: 0.6715 - val_accuracy: 0.7444\n",
      "Epoch 35/100\n",
      "12/12 [==============================] - 0s 3ms/step - loss: 0.6717 - accuracy: 0.7305 - val_loss: 0.6692 - val_accuracy: 0.7444\n",
      "Epoch 36/100\n",
      "12/12 [==============================] - 0s 4ms/step - loss: 0.6665 - accuracy: 0.7305 - val_loss: 0.6666 - val_accuracy: 0.7444\n",
      "Epoch 37/100\n",
      "12/12 [==============================] - 0s 4ms/step - loss: 0.6650 - accuracy: 0.7305 - val_loss: 0.6636 - val_accuracy: 0.7444\n",
      "Epoch 38/100\n",
      "12/12 [==============================] - 0s 3ms/step - loss: 0.6629 - accuracy: 0.7305 - val_loss: 0.6605 - val_accuracy: 0.7444\n",
      "Epoch 39/100\n",
      "12/12 [==============================] - 0s 4ms/step - loss: 0.6567 - accuracy: 0.7305 - val_loss: 0.6567 - val_accuracy: 0.7444\n",
      "Epoch 40/100\n",
      "12/12 [==============================] - 0s 4ms/step - loss: 0.6542 - accuracy: 0.7305 - val_loss: 0.6526 - val_accuracy: 0.7444\n",
      "Epoch 41/100\n",
      "12/12 [==============================] - 0s 4ms/step - loss: 0.6494 - accuracy: 0.7305 - val_loss: 0.6482 - val_accuracy: 0.7444\n",
      "Epoch 42/100\n",
      "12/12 [==============================] - 0s 4ms/step - loss: 0.6447 - accuracy: 0.7305 - val_loss: 0.6433 - val_accuracy: 0.7444\n",
      "Epoch 43/100\n",
      "12/12 [==============================] - 0s 4ms/step - loss: 0.6383 - accuracy: 0.7305 - val_loss: 0.6377 - val_accuracy: 0.7444\n",
      "Epoch 44/100\n",
      "12/12 [==============================] - 0s 3ms/step - loss: 0.6314 - accuracy: 0.7305 - val_loss: 0.6320 - val_accuracy: 0.7444\n",
      "Epoch 45/100\n",
      "12/12 [==============================] - 0s 4ms/step - loss: 0.6271 - accuracy: 0.7305 - val_loss: 0.6257 - val_accuracy: 0.7444\n",
      "Epoch 46/100\n",
      "12/12 [==============================] - 0s 4ms/step - loss: 0.6234 - accuracy: 0.7305 - val_loss: 0.6190 - val_accuracy: 0.7444\n",
      "Epoch 47/100\n",
      "12/12 [==============================] - 0s 3ms/step - loss: 0.6111 - accuracy: 0.7305 - val_loss: 0.6116 - val_accuracy: 0.7444\n",
      "Epoch 48/100\n",
      "12/12 [==============================] - 0s 4ms/step - loss: 0.6081 - accuracy: 0.7305 - val_loss: 0.6038 - val_accuracy: 0.7444\n",
      "Epoch 49/100\n",
      "12/12 [==============================] - 0s 4ms/step - loss: 0.6022 - accuracy: 0.7305 - val_loss: 0.5958 - val_accuracy: 0.7444\n",
      "Epoch 50/100\n",
      "12/12 [==============================] - 0s 4ms/step - loss: 0.5908 - accuracy: 0.7370 - val_loss: 0.5871 - val_accuracy: 0.7444\n",
      "Epoch 51/100\n",
      "12/12 [==============================] - 0s 4ms/step - loss: 0.5860 - accuracy: 0.7370 - val_loss: 0.5781 - val_accuracy: 0.7444\n",
      "Epoch 52/100\n",
      "12/12 [==============================] - 0s 3ms/step - loss: 0.5750 - accuracy: 0.7338 - val_loss: 0.5687 - val_accuracy: 0.7444\n",
      "Epoch 53/100\n",
      "12/12 [==============================] - 0s 4ms/step - loss: 0.5606 - accuracy: 0.7468 - val_loss: 0.5591 - val_accuracy: 0.7444\n",
      "Epoch 54/100\n",
      "12/12 [==============================] - 0s 4ms/step - loss: 0.5533 - accuracy: 0.7597 - val_loss: 0.5489 - val_accuracy: 0.7444\n",
      "Epoch 55/100\n",
      "12/12 [==============================] - 0s 4ms/step - loss: 0.5521 - accuracy: 0.7532 - val_loss: 0.5387 - val_accuracy: 0.7444\n",
      "Epoch 56/100\n",
      "12/12 [==============================] - 0s 4ms/step - loss: 0.5343 - accuracy: 0.7695 - val_loss: 0.5279 - val_accuracy: 0.7444\n",
      "Epoch 57/100\n",
      "12/12 [==============================] - 0s 4ms/step - loss: 0.5290 - accuracy: 0.7597 - val_loss: 0.5172 - val_accuracy: 0.7444\n",
      "Epoch 58/100\n",
      "12/12 [==============================] - 0s 4ms/step - loss: 0.5256 - accuracy: 0.7825 - val_loss: 0.5066 - val_accuracy: 0.7444\n",
      "Epoch 59/100\n",
      "12/12 [==============================] - 0s 3ms/step - loss: 0.5241 - accuracy: 0.7857 - val_loss: 0.4965 - val_accuracy: 0.7444\n",
      "Epoch 60/100\n",
      "12/12 [==============================] - 0s 4ms/step - loss: 0.5113 - accuracy: 0.7532 - val_loss: 0.4860 - val_accuracy: 0.7444\n",
      "Epoch 61/100\n",
      "12/12 [==============================] - 0s 4ms/step - loss: 0.4970 - accuracy: 0.7890 - val_loss: 0.4757 - val_accuracy: 0.7444\n",
      "Epoch 62/100\n",
      "12/12 [==============================] - 0s 4ms/step - loss: 0.4671 - accuracy: 0.7987 - val_loss: 0.4653 - val_accuracy: 0.7444\n",
      "Epoch 63/100\n",
      "12/12 [==============================] - 0s 4ms/step - loss: 0.4666 - accuracy: 0.7955 - val_loss: 0.4550 - val_accuracy: 0.7444\n",
      "Epoch 64/100\n",
      "12/12 [==============================] - 0s 4ms/step - loss: 0.4545 - accuracy: 0.7955 - val_loss: 0.4448 - val_accuracy: 0.7820\n",
      "Epoch 65/100\n",
      "12/12 [==============================] - 0s 4ms/step - loss: 0.4522 - accuracy: 0.8149 - val_loss: 0.4345 - val_accuracy: 0.8195\n",
      "Epoch 66/100\n",
      "12/12 [==============================] - 0s 4ms/step - loss: 0.4530 - accuracy: 0.8214 - val_loss: 0.4246 - val_accuracy: 0.8496\n",
      "Epoch 67/100\n",
      "12/12 [==============================] - 0s 4ms/step - loss: 0.4378 - accuracy: 0.8312 - val_loss: 0.4152 - val_accuracy: 0.8797\n",
      "Epoch 68/100\n",
      "12/12 [==============================] - 0s 4ms/step - loss: 0.4267 - accuracy: 0.8117 - val_loss: 0.4060 - val_accuracy: 0.9023\n",
      "Epoch 69/100\n",
      "12/12 [==============================] - 0s 4ms/step - loss: 0.4305 - accuracy: 0.8409 - val_loss: 0.3973 - val_accuracy: 0.9323\n",
      "Epoch 70/100\n",
      "12/12 [==============================] - 0s 4ms/step - loss: 0.4327 - accuracy: 0.8669 - val_loss: 0.3891 - val_accuracy: 0.9474\n",
      "Epoch 71/100\n",
      "12/12 [==============================] - 0s 4ms/step - loss: 0.3932 - accuracy: 0.8409 - val_loss: 0.3814 - val_accuracy: 0.9474\n",
      "Epoch 72/100\n",
      "12/12 [==============================] - 0s 3ms/step - loss: 0.3985 - accuracy: 0.8571 - val_loss: 0.3735 - val_accuracy: 0.9549\n",
      "Epoch 73/100\n",
      "12/12 [==============================] - 0s 4ms/step - loss: 0.4036 - accuracy: 0.8701 - val_loss: 0.3662 - val_accuracy: 0.9549\n",
      "Epoch 74/100\n",
      "12/12 [==============================] - 0s 4ms/step - loss: 0.3925 - accuracy: 0.8864 - val_loss: 0.3586 - val_accuracy: 0.9549\n",
      "Epoch 75/100\n",
      "12/12 [==============================] - 0s 4ms/step - loss: 0.3800 - accuracy: 0.8571 - val_loss: 0.3513 - val_accuracy: 0.9549\n",
      "Epoch 76/100\n",
      "12/12 [==============================] - 0s 4ms/step - loss: 0.3860 - accuracy: 0.8636 - val_loss: 0.3448 - val_accuracy: 0.9624\n",
      "Epoch 77/100\n",
      "12/12 [==============================] - 0s 4ms/step - loss: 0.3775 - accuracy: 0.8669 - val_loss: 0.3382 - val_accuracy: 0.9624\n",
      "Epoch 78/100\n",
      "12/12 [==============================] - 0s 4ms/step - loss: 0.3582 - accuracy: 0.8701 - val_loss: 0.3319 - val_accuracy: 0.9699\n",
      "Epoch 79/100\n",
      "12/12 [==============================] - 0s 4ms/step - loss: 0.3771 - accuracy: 0.8766 - val_loss: 0.3264 - val_accuracy: 0.9774\n",
      "Epoch 80/100\n",
      "12/12 [==============================] - 0s 3ms/step - loss: 0.3685 - accuracy: 0.8961 - val_loss: 0.3210 - val_accuracy: 0.9774\n",
      "Epoch 81/100\n",
      "12/12 [==============================] - 0s 4ms/step - loss: 0.3601 - accuracy: 0.8831 - val_loss: 0.3152 - val_accuracy: 0.9774\n",
      "Epoch 82/100\n",
      "12/12 [==============================] - 0s 4ms/step - loss: 0.3494 - accuracy: 0.8604 - val_loss: 0.3099 - val_accuracy: 0.9774\n",
      "Epoch 83/100\n",
      "12/12 [==============================] - 0s 4ms/step - loss: 0.3446 - accuracy: 0.9026 - val_loss: 0.3042 - val_accuracy: 0.9774\n",
      "Epoch 84/100\n",
      "12/12 [==============================] - 0s 5ms/step - loss: 0.3265 - accuracy: 0.8896 - val_loss: 0.2987 - val_accuracy: 0.9774\n",
      "Epoch 85/100\n",
      "12/12 [==============================] - 0s 4ms/step - loss: 0.3499 - accuracy: 0.8929 - val_loss: 0.2939 - val_accuracy: 0.9774\n",
      "Epoch 86/100\n",
      "12/12 [==============================] - 0s 4ms/step - loss: 0.3308 - accuracy: 0.8929 - val_loss: 0.2895 - val_accuracy: 0.9774\n",
      "Epoch 87/100\n",
      "12/12 [==============================] - 0s 4ms/step - loss: 0.3345 - accuracy: 0.9026 - val_loss: 0.2849 - val_accuracy: 0.9774\n",
      "Epoch 88/100\n",
      "12/12 [==============================] - 0s 4ms/step - loss: 0.3487 - accuracy: 0.8799 - val_loss: 0.2804 - val_accuracy: 0.9774\n",
      "Epoch 89/100\n",
      "12/12 [==============================] - 0s 3ms/step - loss: 0.3150 - accuracy: 0.9058 - val_loss: 0.2763 - val_accuracy: 0.9850\n",
      "Epoch 90/100\n",
      "12/12 [==============================] - 0s 4ms/step - loss: 0.3288 - accuracy: 0.8831 - val_loss: 0.2727 - val_accuracy: 0.9850\n",
      "Epoch 91/100\n",
      "12/12 [==============================] - 0s 6ms/step - loss: 0.3250 - accuracy: 0.8896 - val_loss: 0.2692 - val_accuracy: 0.9850\n",
      "Epoch 92/100\n",
      "12/12 [==============================] - 0s 5ms/step - loss: 0.2969 - accuracy: 0.8864 - val_loss: 0.2657 - val_accuracy: 0.9850\n",
      "Epoch 93/100\n",
      "12/12 [==============================] - 0s 4ms/step - loss: 0.2985 - accuracy: 0.8994 - val_loss: 0.2626 - val_accuracy: 0.9850\n",
      "Epoch 94/100\n",
      "12/12 [==============================] - 0s 3ms/step - loss: 0.3047 - accuracy: 0.8961 - val_loss: 0.2591 - val_accuracy: 0.9850\n",
      "Epoch 95/100\n",
      "12/12 [==============================] - 0s 5ms/step - loss: 0.3206 - accuracy: 0.8766 - val_loss: 0.2560 - val_accuracy: 0.9850\n",
      "Epoch 96/100\n",
      "12/12 [==============================] - 0s 4ms/step - loss: 0.2991 - accuracy: 0.8799 - val_loss: 0.2531 - val_accuracy: 0.9850\n",
      "Epoch 97/100\n",
      "12/12 [==============================] - 0s 4ms/step - loss: 0.2944 - accuracy: 0.9123 - val_loss: 0.2499 - val_accuracy: 0.9925\n",
      "Epoch 98/100\n",
      "12/12 [==============================] - 0s 4ms/step - loss: 0.2958 - accuracy: 0.9058 - val_loss: 0.2463 - val_accuracy: 0.9925\n",
      "Epoch 99/100\n",
      "12/12 [==============================] - 0s 4ms/step - loss: 0.2956 - accuracy: 0.8831 - val_loss: 0.2430 - val_accuracy: 0.9925\n",
      "Epoch 100/100\n",
      "12/12 [==============================] - 0s 3ms/step - loss: 0.2897 - accuracy: 0.9091 - val_loss: 0.2394 - val_accuracy: 0.9925\n"
     ]
    }
   ],
   "source": [
    "#Early stopping\n",
    "early_stopping = EarlyStopping(\n",
    "    min_delta=0.001, # minimium amount of change to count as an improvement\n",
    "    patience=20, # how many epochs to wait before stopping\n",
    "    restore_best_weights=True,\n",
    ")\n",
    "\n",
    "# Initialising the NN\n",
    "model = Sequential()\n",
    "\n",
    "# layers\n",
    "\n",
    "model.add(Dense(units=32, kernel_initializer='uniform', activation='relu', input_dim=x_train.shape[1]))\n",
    "\n",
    "\n",
    "model.add(Dense(units = 32, kernel_initializer = 'uniform', activation = 'relu'))\n",
    "model.add(Dense(units = 16, kernel_initializer = 'uniform', activation = 'relu'))\n",
    "model.add(Dropout(0.5))\n",
    "\n",
    "model.add(Dense(units = 8, kernel_initializer = 'uniform', activation = 'relu'))\n",
    "model.add(Dropout(0.5))\n",
    "\n",
    "model.add(Dense(units = 1, kernel_initializer = 'uniform', activation = 'sigmoid'))\n",
    "\n",
    "model.add(Flatten())\n",
    "\n",
    "opt = Adam(learning_rate=0.00009)\n",
    "model.compile(optimizer = opt, loss = 'binary_crossentropy', metrics = ['accuracy'])\n",
    "\n",
    "# Train the ANN\n",
    "history = model.fit(x_train, y_train, batch_size = 26, epochs = 100, callbacks=[early_stopping], validation_split=0.3)\n"
   ]
  },
  {
   "cell_type": "code",
   "execution_count": 50,
   "metadata": {},
   "outputs": [
    {
     "data": {
      "image/png": "[encoded data removed]",
      "text/plain": [
       "<Figure size 640x480 with 1 Axes>"
      ]
     },
     "metadata": {},
     "output_type": "display_data"
    }
   ],
   "source": [
    "history_df = pd.DataFrame(history.history)\n",
    "\n",
    "plt.plot(history_df.loc[:, ['loss']], label='Training loss')\n",
    "plt.plot(history_df.loc[:, ['val_loss']], label='Validation loss')\n",
    "plt.title('Training and Validation loss')\n",
    "plt.xlabel('Epochs')\n",
    "plt.ylabel('Loss')\n",
    "plt.legend(loc=\"best\")\n",
    "\n",
    "plt.show()"
   ]
  },
  {
   "cell_type": "code",
   "execution_count": 51,
   "metadata": {},
   "outputs": [
    {
     "data": {
      "image/png": "[encoded data removed]",
      "text/plain": [
       "<Figure size 640x480 with 1 Axes>"
      ]
     },
     "metadata": {},
     "output_type": "display_data"
    }
   ],
   "source": [
    "history_df = pd.DataFrame(history.history)\n",
    "\n",
    "plt.plot(history_df.loc[:, ['accuracy']], label='Training Accuracy')\n",
    "plt.plot(history_df.loc[:, ['val_accuracy']], label='Validation Accuracy')\n",
    "\n",
    "plt.title('Triple Howe Training and Validation Accuracy')\n",
    "plt.xlabel('Epochs')\n",
    "plt.ylabel('Accuracy')\n",
    "plt.legend()\n",
    "plt.show()"
   ]
  },
  {
   "cell_type": "code",
   "execution_count": null,
   "metadata": {},
   "outputs": [],
   "source": [
    "x_test = np.asarray(x_test).astype('float32')"
   ]
  },
  {
   "cell_type": "code",
   "execution_count": null,
   "metadata": {},
   "outputs": [],
   "source": [
    "y_pred = model.predict(sc.transform([[7800, 50, 45]]))\n",
    "y_pred_classes = (y_pred > 0.5).astype(int)\n",
    "y_pred_classes "
   ]
  },
  {
   "cell_type": "markdown",
   "metadata": {},
   "source": [
    "# Predict New Data"
   ]
  },
  {
   "cell_type": "code",
   "execution_count": null,
   "metadata": {},
   "outputs": [],
   "source": [
    "#Prediksid data baru\n",
    "\n",
    "Kecepatan = []\n",
    "Sudut = []\n",
    "Panjang = []\n",
    "CFSR = []\n",
    "\n",
    "N_batang_bawah = 8\n",
    "\n",
    "for segment in range (1100,1400,100):\n",
    "    panjang = segment * N_batang_bawah\n",
    "    for kec_angin in range (10, 501, 5):\n",
    "        kec_angin = kec_angin/10   \n",
    "        for sudut in range (15, 46, 1):\n",
    "\n",
    "            Kecepatan.append(kec_angin)\n",
    "            Sudut.append(sudut)\n",
    "            Panjang.append(panjang)\n",
    "            y_pred = model.predict(sc.transform([[panjang, kec_angin, sudut]]))\n",
    "            y_pred_classes = (y_pred > 0.5).astype(int)\n",
    "            CFSR.append(y_pred_classes)\n",
    "\n",
    "data ={\n",
    "    'Panjang' : Panjang,\n",
    "    'Kecepatan Angin': Kecepatan,\n",
    "    'Sudut' : Sudut,\n",
    "    'Aman Terhadap Penampang' : CFSR\n",
    "} \n",
    "\n",
    "data = pd.DataFrame(data)"
   ]
  },
  {
   "cell_type": "code",
   "execution_count": null,
   "metadata": {},
   "outputs": [],
   "source": [
    "data"
   ]
  },
  {
   "cell_type": "code",
   "execution_count": null,
   "metadata": {},
   "outputs": [],
   "source": [
    "data.to_csv('C:/Users/febyf/Documents/SAP 25 TES/ANN Triple Howe Baru')"
   ]
  }
 ],
 "metadata": {
  "kernelspec": {
   "display_name": "Python 3",
   "language": "python",
   "name": "python3"
  },
  "language_info": {
   "codemirror_mode": {
    "name": "ipython",
    "version": 3
   },
   "file_extension": ".py",
   "mimetype": "text/x-python",
   "name": "python",
   "nbconvert_exporter": "python",
   "pygments_lexer": "ipython3",
   "version": "3.11.4"
  }
 },
 "nbformat": 4,
 "nbformat_minor": 2
}
