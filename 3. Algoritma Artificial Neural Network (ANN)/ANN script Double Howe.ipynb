{
 "cells": [
  {
   "cell_type": "code",
   "execution_count": 1,
   "metadata": {},
   "outputs": [
    {
     "name": "stdout",
     "output_type": "stream",
     "text": [
      "WARNING:tensorflow:From c:\\Users\\febyf\\AppData\\Local\\Programs\\Python\\Python311\\Lib\\site-packages\\keras\\src\\losses.py:2976: The name tf.losses.sparse_softmax_cross_entropy is deprecated. Please use tf.compat.v1.losses.sparse_softmax_cross_entropy instead.\n",
      "\n"
     ]
    }
   ],
   "source": [
    "# ANN for predicting demand/capasity ratio\n",
    "\n",
    "import matplotlib.pyplot as plt\n",
    "import seaborn as sns\n",
    "from scipy.stats import norm\n",
    "from scipy.optimize import minimize\n",
    "\n",
    "import visualkeras as vs\n",
    "\n",
    "import numpy as np\n",
    "import pandas as pd\n",
    "from tensorflow import keras\n",
    "\n",
    "import warnings\n",
    "warnings.filterwarnings('ignore')\n",
    "\n",
    "from sklearn.impute import SimpleImputer\n",
    "from sklearn.preprocessing import LabelEncoder, StandardScaler\n",
    "from sklearn.model_selection import train_test_split\n",
    "from sklearn.metrics import classification_report\n",
    "from sklearn.metrics import accuracy_score\n",
    "\n",
    "from keras.utils import to_categorical\n",
    "from keras.models import Sequential\n",
    "from keras.layers import Dense, Flatten, Dropout\n",
    "from keras.callbacks import EarlyStopping\n",
    "from keras.optimizers import Adam"
   ]
  },
  {
   "cell_type": "code",
   "execution_count": 2,
   "metadata": {},
   "outputs": [],
   "source": [
    "df = pd.read_csv('C:/Users/febyf/Documents/TGA FEBY/SAP HASIL RUNNING/DOUBLE HOWE/CSV/Rekap Data/DATA KEAMANAN TUNGGAL')"
   ]
  },
  {
   "cell_type": "code",
   "execution_count": 3,
   "metadata": {},
   "outputs": [
    {
     "data": {
      "text/html": [
       "<div>\n",
       "<style scoped>\n",
       "    .dataframe tbody tr th:only-of-type {\n",
       "        vertical-align: middle;\n",
       "    }\n",
       "\n",
       "    .dataframe tbody tr th {\n",
       "        vertical-align: top;\n",
       "    }\n",
       "\n",
       "    .dataframe thead th {\n",
       "        text-align: right;\n",
       "    }\n",
       "</style>\n",
       "<table border=\"1\" class=\"dataframe\">\n",
       "  <thead>\n",
       "    <tr style=\"text-align: right;\">\n",
       "      <th></th>\n",
       "      <th>Panjang</th>\n",
       "      <th>Kecepatan Angin</th>\n",
       "      <th>Sudut</th>\n",
       "      <th>Aman Terhadap Penampang</th>\n",
       "    </tr>\n",
       "  </thead>\n",
       "  <tbody>\n",
       "    <tr>\n",
       "      <th>0</th>\n",
       "      <td>6600</td>\n",
       "      <td>1</td>\n",
       "      <td>15</td>\n",
       "      <td>Aman</td>\n",
       "    </tr>\n",
       "    <tr>\n",
       "      <th>1</th>\n",
       "      <td>6600</td>\n",
       "      <td>1</td>\n",
       "      <td>20</td>\n",
       "      <td>Aman</td>\n",
       "    </tr>\n",
       "    <tr>\n",
       "      <th>2</th>\n",
       "      <td>6600</td>\n",
       "      <td>1</td>\n",
       "      <td>25</td>\n",
       "      <td>Aman</td>\n",
       "    </tr>\n",
       "    <tr>\n",
       "      <th>3</th>\n",
       "      <td>6600</td>\n",
       "      <td>1</td>\n",
       "      <td>30</td>\n",
       "      <td>Aman</td>\n",
       "    </tr>\n",
       "    <tr>\n",
       "      <th>4</th>\n",
       "      <td>6600</td>\n",
       "      <td>1</td>\n",
       "      <td>35</td>\n",
       "      <td>Aman</td>\n",
       "    </tr>\n",
       "    <tr>\n",
       "      <th>...</th>\n",
       "      <td>...</td>\n",
       "      <td>...</td>\n",
       "      <td>...</td>\n",
       "      <td>...</td>\n",
       "    </tr>\n",
       "    <tr>\n",
       "      <th>1045</th>\n",
       "      <td>7800</td>\n",
       "      <td>50</td>\n",
       "      <td>25</td>\n",
       "      <td>Tidak Aman</td>\n",
       "    </tr>\n",
       "    <tr>\n",
       "      <th>1046</th>\n",
       "      <td>7800</td>\n",
       "      <td>50</td>\n",
       "      <td>30</td>\n",
       "      <td>Tidak Aman</td>\n",
       "    </tr>\n",
       "    <tr>\n",
       "      <th>1047</th>\n",
       "      <td>7800</td>\n",
       "      <td>50</td>\n",
       "      <td>35</td>\n",
       "      <td>Tidak Aman</td>\n",
       "    </tr>\n",
       "    <tr>\n",
       "      <th>1048</th>\n",
       "      <td>7800</td>\n",
       "      <td>50</td>\n",
       "      <td>40</td>\n",
       "      <td>Tidak Aman</td>\n",
       "    </tr>\n",
       "    <tr>\n",
       "      <th>1049</th>\n",
       "      <td>7800</td>\n",
       "      <td>50</td>\n",
       "      <td>45</td>\n",
       "      <td>Tidak Aman</td>\n",
       "    </tr>\n",
       "  </tbody>\n",
       "</table>\n",
       "<p>1050 rows × 4 columns</p>\n",
       "</div>"
      ],
      "text/plain": [
       "      Panjang  Kecepatan Angin  Sudut Aman Terhadap Penampang\n",
       "0        6600                1     15                    Aman\n",
       "1        6600                1     20                    Aman\n",
       "2        6600                1     25                    Aman\n",
       "3        6600                1     30                    Aman\n",
       "4        6600                1     35                    Aman\n",
       "...       ...              ...    ...                     ...\n",
       "1045     7800               50     25              Tidak Aman\n",
       "1046     7800               50     30              Tidak Aman\n",
       "1047     7800               50     35              Tidak Aman\n",
       "1048     7800               50     40              Tidak Aman\n",
       "1049     7800               50     45              Tidak Aman\n",
       "\n",
       "[1050 rows x 4 columns]"
      ]
     },
     "execution_count": 3,
     "metadata": {},
     "output_type": "execute_result"
    }
   ],
   "source": [
    "df"
   ]
  },
  {
   "cell_type": "code",
   "execution_count": 4,
   "metadata": {},
   "outputs": [],
   "source": [
    "data = df"
   ]
  },
  {
   "cell_type": "code",
   "execution_count": 5,
   "metadata": {},
   "outputs": [],
   "source": [
    "#Split data menjadi input dan output\n",
    "x = data.iloc[:, [0, 1, 2]].values      # input\n",
    "y = data.iloc[:, 3 ].values             # output"
   ]
  },
  {
   "cell_type": "code",
   "execution_count": 6,
   "metadata": {},
   "outputs": [
    {
     "data": {
      "text/plain": [
       "array([[6600,    1,   15],\n",
       "       [6600,    1,   20],\n",
       "       [6600,    1,   25],\n",
       "       ...,\n",
       "       [7800,   50,   35],\n",
       "       [7800,   50,   40],\n",
       "       [7800,   50,   45]], dtype=int64)"
      ]
     },
     "execution_count": 6,
     "metadata": {},
     "output_type": "execute_result"
    }
   ],
   "source": [
    "x"
   ]
  },
  {
   "cell_type": "markdown",
   "metadata": {},
   "source": [
    "# CLEANING DATA"
   ]
  },
  {
   "cell_type": "code",
   "execution_count": 7,
   "metadata": {},
   "outputs": [],
   "source": [
    "#simpleimputer : untuk menangani nilai hilang\n",
    "#missingvalues : menentukan apa yang harus dianggap oleh imputer sebagai nilai yang hilang dengan ditulis 'np.nan'\n",
    "#mostfrequent  : imuter mengganti 'np.nan' dengan nilai yang paling sering muncul pada kolom 'np.nan' berada\n",
    "\n",
    "\n",
    "imputer = SimpleImputer(missing_values = np.nan,strategy = 'most_frequent')"
   ]
  },
  {
   "cell_type": "code",
   "execution_count": 8,
   "metadata": {},
   "outputs": [
    {
     "data": {
      "text/plain": [
       "array([['Aman'],\n",
       "       ['Aman'],\n",
       "       ['Aman'],\n",
       "       ...,\n",
       "       ['Tidak Aman'],\n",
       "       ['Tidak Aman'],\n",
       "       ['Tidak Aman']], dtype=object)"
      ]
     },
     "execution_count": 8,
     "metadata": {},
     "output_type": "execute_result"
    }
   ],
   "source": [
    "#mengubah y menjadi array 2D dengan satu kolom dan jumlah baris\n",
    "y = y.reshape(-1, 1)\n",
    "y"
   ]
  },
  {
   "cell_type": "code",
   "execution_count": 9,
   "metadata": {},
   "outputs": [],
   "source": [
    "#fit_transform adalah metode dari imputer yang melakukan dua langkah: fit dan transform\n",
    "#fit adalah proses dimana imputer belajar tentang data, lebih spesifik lagi, belajar nilai yang akan digunakan untuk mengganti nilai yang hilang\n",
    "#transform adalah proses penggantian nilai yang hilang dengan nilai yang telah dipelajari (fit).\n",
    "\n",
    "x = imputer.fit_transform(x)\n",
    "y = imputer.fit_transform(y)"
   ]
  },
  {
   "cell_type": "code",
   "execution_count": 10,
   "metadata": {},
   "outputs": [
    {
     "data": {
      "text/plain": [
       "array([[6600,    1,   15],\n",
       "       [6600,    1,   20],\n",
       "       [6600,    1,   25],\n",
       "       ...,\n",
       "       [7800,   50,   35],\n",
       "       [7800,   50,   40],\n",
       "       [7800,   50,   45]], dtype=int64)"
      ]
     },
     "execution_count": 10,
     "metadata": {},
     "output_type": "execute_result"
    }
   ],
   "source": [
    "x"
   ]
  },
  {
   "cell_type": "markdown",
   "metadata": {},
   "source": [
    "# Encoding Dataset\n",
    "Converting string data to numerical values so I can process the data"
   ]
  },
  {
   "cell_type": "code",
   "execution_count": 11,
   "metadata": {},
   "outputs": [
    {
     "data": {
      "text/plain": [
       "Index(['Aman Terhadap Penampang'], dtype='object')"
      ]
     },
     "execution_count": 11,
     "metadata": {},
     "output_type": "execute_result"
    }
   ],
   "source": [
    "#digunakan untuk memilih semua kolom dalam DataFrame data yang tipe datanya adalah 'object' (string atau teks)\n",
    "col_obj = data.select_dtypes(include = 'object').columns\n",
    "col_obj"
   ]
  },
  {
   "cell_type": "code",
   "execution_count": 12,
   "metadata": {},
   "outputs": [
    {
     "data": {
      "text/plain": [
       "array([0, 0, 0, ..., 1, 1, 1], dtype=object)"
      ]
     },
     "execution_count": 12,
     "metadata": {},
     "output_type": "execute_result"
    }
   ],
   "source": [
    "#LabelEncoder dari pustaka scikit-learn untuk mengubah label kategorikal dalam array y menjadi representasi numerik.\n",
    "le1 = LabelEncoder()\n",
    "y[:, -1] = le1.fit_transform(y[:, -1])\n",
    "y[:, -1]"
   ]
  },
  {
   "cell_type": "code",
   "execution_count": 13,
   "metadata": {},
   "outputs": [
    {
     "name": "stdout",
     "output_type": "stream",
     "text": [
      "[[0]\n",
      " [0]\n",
      " [0]\n",
      " ...\n",
      " [1]\n",
      " [1]\n",
      " [1]]\n"
     ]
    }
   ],
   "source": [
    "print(y)"
   ]
  },
  {
   "cell_type": "markdown",
   "metadata": {},
   "source": [
    "# Feature Scaling"
   ]
  },
  {
   "cell_type": "code",
   "execution_count": 14,
   "metadata": {},
   "outputs": [],
   "source": [
    "#StandardScaler() untuk menormalkan atau menstandarisasi fitur dalam array x. Proses standarisasi mengubah data sehingga distribusinya memiliki rata-rata 0 dan standar deviasi 1\n",
    "\n",
    "sc = StandardScaler()\n",
    "x = sc.fit_transform(x)\n"
   ]
  },
  {
   "cell_type": "code",
   "execution_count": 15,
   "metadata": {},
   "outputs": [
    {
     "name": "stdout",
     "output_type": "stream",
     "text": [
      "[[-1.22474487 -1.69774938 -1.5       ]\n",
      " [-1.22474487 -1.69774938 -1.        ]\n",
      " [-1.22474487 -1.69774938 -0.5       ]\n",
      " ...\n",
      " [ 1.22474487  1.69774938  0.5       ]\n",
      " [ 1.22474487  1.69774938  1.        ]\n",
      " [ 1.22474487  1.69774938  1.5       ]]\n"
     ]
    }
   ],
   "source": [
    "print(x)"
   ]
  },
  {
   "cell_type": "markdown",
   "metadata": {},
   "source": [
    "# Splitting Data to Train and Test Sets"
   ]
  },
  {
   "cell_type": "code",
   "execution_count": 16,
   "metadata": {},
   "outputs": [],
   "source": [
    "x_train, x_test, y_train, y_test = train_test_split(x, y, test_size = 0.3, random_state = 42)"
   ]
  },
  {
   "cell_type": "code",
   "execution_count": 17,
   "metadata": {},
   "outputs": [
    {
     "data": {
      "text/plain": [
       "array([[-1.22474487,  1.07408634, -1.        ],\n",
       "       [-1.22474487,  0.93549455, -1.5       ],\n",
       "       [ 0.        ,  0.10394384, -0.5       ],\n",
       "       ...,\n",
       "       [-1.22474487, -0.5197192 , -0.5       ],\n",
       "       [ 1.22474487,  1.69774938, -1.        ],\n",
       "       [ 1.22474487, -0.17323973,  1.5       ]])"
      ]
     },
     "execution_count": 17,
     "metadata": {},
     "output_type": "execute_result"
    }
   ],
   "source": [
    "x_train"
   ]
  },
  {
   "cell_type": "code",
   "execution_count": 18,
   "metadata": {},
   "outputs": [],
   "source": [
    "#digunakan untuk mengonversi data pelatihan x_train dan y_train menjadi array NumPy dan mengubah tipe data elemennya menjadi float32\n",
    "#Mengonversi data ke float32 dapat mengurangi penggunaan memori dan meningkatkan kecepatan pemrosesan,\n",
    "x_train = np.asarray(x_train).astype('float32')\n",
    "y_train = np.asarray(y_train).astype('float32')"
   ]
  },
  {
   "cell_type": "code",
   "execution_count": 19,
   "metadata": {},
   "outputs": [
    {
     "data": {
      "text/plain": [
       "<Axes: xlabel='Aman Terhadap Penampang', ylabel='count'>"
      ]
     },
     "execution_count": 19,
     "metadata": {},
     "output_type": "execute_result"
    },
    {
     "data": {
      "image/png": "[encoded data removed]",
      "text/plain": [
       "<Figure size 640x480 with 1 Axes>"
      ]
     },
     "metadata": {},
     "output_type": "display_data"
    }
   ],
   "source": [
    "#countplot berguna untuk menampilkan distribusi frekuensi dari variabel kategorikal.\n",
    "cols= [\"#cfe2f3\",\"#d9ead3\"]\n",
    "sns.countplot(x= data[\"Aman Terhadap Penampang\"], palette= cols)"
   ]
  },
  {
   "cell_type": "markdown",
   "metadata": {},
   "source": [
    "# Training Models"
   ]
  },
  {
   "cell_type": "code",
   "execution_count": 20,
   "metadata": {},
   "outputs": [
    {
     "data": {
      "text/plain": [
       "708"
      ]
     },
     "execution_count": 20,
     "metadata": {},
     "output_type": "execute_result"
    }
   ],
   "source": [
    "aman = data['Aman Terhadap Penampang'].value_counts()['Aman']\n",
    "aman"
   ]
  },
  {
   "cell_type": "code",
   "execution_count": 21,
   "metadata": {},
   "outputs": [
    {
     "data": {
      "text/plain": [
       "342"
      ]
     },
     "execution_count": 21,
     "metadata": {},
     "output_type": "execute_result"
    }
   ],
   "source": [
    "tidak_aman = data['Aman Terhadap Penampang'].value_counts()['Tidak Aman']\n",
    "tidak_aman"
   ]
  },
  {
   "cell_type": "code",
   "execution_count": 22,
   "metadata": {},
   "outputs": [
    {
     "data": {
      "text/plain": [
       "3"
      ]
     },
     "execution_count": 22,
     "metadata": {},
     "output_type": "execute_result"
    }
   ],
   "source": [
    "#x_train.shape[1] secara khusus mengembalikan nilai yang menunjukkan berapa banyak fitur (kolom) yang ada dalam data pelatihan x_train.\n",
    "x_train.shape[1]"
   ]
  },
  {
   "cell_type": "code",
   "execution_count": 23,
   "metadata": {},
   "outputs": [
    {
     "name": "stdout",
     "output_type": "stream",
     "text": [
      "WARNING:tensorflow:From c:\\Users\\febyf\\AppData\\Local\\Programs\\Python\\Python311\\Lib\\site-packages\\keras\\src\\backend.py:873: The name tf.get_default_graph is deprecated. Please use tf.compat.v1.get_default_graph instead.\n",
      "\n",
      "Epoch 1/100\n",
      "WARNING:tensorflow:From c:\\Users\\febyf\\AppData\\Local\\Programs\\Python\\Python311\\Lib\\site-packages\\keras\\src\\utils\\tf_utils.py:492: The name tf.ragged.RaggedTensorValue is deprecated. Please use tf.compat.v1.ragged.RaggedTensorValue instead.\n",
      "\n",
      "WARNING:tensorflow:From c:\\Users\\febyf\\AppData\\Local\\Programs\\Python\\Python311\\Lib\\site-packages\\keras\\src\\engine\\base_layer_utils.py:384: The name tf.executing_eagerly_outside_functions is deprecated. Please use tf.compat.v1.executing_eagerly_outside_functions instead.\n",
      "\n",
      "20/20 [==============================] - 1s 12ms/step - loss: 0.6930 - accuracy: 0.6809 - val_loss: 0.6928 - val_accuracy: 0.6787\n",
      "Epoch 2/100\n",
      "20/20 [==============================] - 0s 3ms/step - loss: 0.6926 - accuracy: 0.6926 - val_loss: 0.6925 - val_accuracy: 0.6787\n",
      "Epoch 3/100\n",
      "20/20 [==============================] - 0s 2ms/step - loss: 0.6923 - accuracy: 0.6926 - val_loss: 0.6922 - val_accuracy: 0.6787\n",
      "Epoch 4/100\n",
      "20/20 [==============================] - 0s 3ms/step - loss: 0.6919 - accuracy: 0.6926 - val_loss: 0.6919 - val_accuracy: 0.6787\n",
      "Epoch 5/100\n",
      "20/20 [==============================] - 0s 3ms/step - loss: 0.6916 - accuracy: 0.6926 - val_loss: 0.6915 - val_accuracy: 0.6787\n",
      "Epoch 6/100\n",
      "20/20 [==============================] - 0s 3ms/step - loss: 0.6912 - accuracy: 0.6926 - val_loss: 0.6912 - val_accuracy: 0.6787\n",
      "Epoch 7/100\n",
      "20/20 [==============================] - 0s 3ms/step - loss: 0.6908 - accuracy: 0.6926 - val_loss: 0.6908 - val_accuracy: 0.6787\n",
      "Epoch 8/100\n",
      "20/20 [==============================] - 0s 2ms/step - loss: 0.6904 - accuracy: 0.6926 - val_loss: 0.6904 - val_accuracy: 0.6787\n",
      "Epoch 9/100\n",
      "20/20 [==============================] - 0s 3ms/step - loss: 0.6900 - accuracy: 0.6926 - val_loss: 0.6900 - val_accuracy: 0.6787\n",
      "Epoch 10/100\n",
      "20/20 [==============================] - 0s 3ms/step - loss: 0.6895 - accuracy: 0.6926 - val_loss: 0.6896 - val_accuracy: 0.6787\n",
      "Epoch 11/100\n",
      "20/20 [==============================] - 0s 2ms/step - loss: 0.6891 - accuracy: 0.6926 - val_loss: 0.6891 - val_accuracy: 0.6787\n",
      "Epoch 12/100\n",
      "20/20 [==============================] - 0s 3ms/step - loss: 0.6886 - accuracy: 0.6926 - val_loss: 0.6886 - val_accuracy: 0.6787\n",
      "Epoch 13/100\n",
      "20/20 [==============================] - 0s 3ms/step - loss: 0.6880 - accuracy: 0.6926 - val_loss: 0.6880 - val_accuracy: 0.6787\n",
      "Epoch 14/100\n",
      "20/20 [==============================] - 0s 3ms/step - loss: 0.6872 - accuracy: 0.6926 - val_loss: 0.6872 - val_accuracy: 0.6787\n",
      "Epoch 15/100\n",
      "20/20 [==============================] - 0s 3ms/step - loss: 0.6865 - accuracy: 0.6926 - val_loss: 0.6862 - val_accuracy: 0.6787\n",
      "Epoch 16/100\n",
      "20/20 [==============================] - 0s 3ms/step - loss: 0.6851 - accuracy: 0.6926 - val_loss: 0.6851 - val_accuracy: 0.6787\n",
      "Epoch 17/100\n",
      "20/20 [==============================] - 0s 3ms/step - loss: 0.6840 - accuracy: 0.6926 - val_loss: 0.6837 - val_accuracy: 0.6787\n",
      "Epoch 18/100\n",
      "20/20 [==============================] - 0s 3ms/step - loss: 0.6823 - accuracy: 0.6926 - val_loss: 0.6818 - val_accuracy: 0.6787\n",
      "Epoch 19/100\n",
      "20/20 [==============================] - 0s 3ms/step - loss: 0.6802 - accuracy: 0.6926 - val_loss: 0.6794 - val_accuracy: 0.6787\n",
      "Epoch 20/100\n",
      "20/20 [==============================] - 0s 3ms/step - loss: 0.6769 - accuracy: 0.6926 - val_loss: 0.6762 - val_accuracy: 0.6787\n",
      "Epoch 21/100\n",
      "20/20 [==============================] - 0s 3ms/step - loss: 0.6735 - accuracy: 0.6926 - val_loss: 0.6723 - val_accuracy: 0.6787\n",
      "Epoch 22/100\n",
      "20/20 [==============================] - 0s 3ms/step - loss: 0.6699 - accuracy: 0.6926 - val_loss: 0.6676 - val_accuracy: 0.6787\n",
      "Epoch 23/100\n",
      "20/20 [==============================] - 0s 3ms/step - loss: 0.6638 - accuracy: 0.6926 - val_loss: 0.6617 - val_accuracy: 0.6787\n",
      "Epoch 24/100\n",
      "20/20 [==============================] - 0s 3ms/step - loss: 0.6575 - accuracy: 0.6926 - val_loss: 0.6545 - val_accuracy: 0.6787\n",
      "Epoch 25/100\n",
      "20/20 [==============================] - 0s 3ms/step - loss: 0.6509 - accuracy: 0.6926 - val_loss: 0.6464 - val_accuracy: 0.6787\n",
      "Epoch 26/100\n",
      "20/20 [==============================] - 0s 3ms/step - loss: 0.6415 - accuracy: 0.6926 - val_loss: 0.6366 - val_accuracy: 0.6787\n",
      "Epoch 27/100\n",
      "20/20 [==============================] - 0s 3ms/step - loss: 0.6324 - accuracy: 0.6926 - val_loss: 0.6256 - val_accuracy: 0.6787\n",
      "Epoch 28/100\n",
      "20/20 [==============================] - 0s 2ms/step - loss: 0.6195 - accuracy: 0.6926 - val_loss: 0.6133 - val_accuracy: 0.6787\n",
      "Epoch 29/100\n",
      "20/20 [==============================] - 0s 3ms/step - loss: 0.6046 - accuracy: 0.6926 - val_loss: 0.5990 - val_accuracy: 0.6787\n",
      "Epoch 30/100\n",
      "20/20 [==============================] - 0s 3ms/step - loss: 0.5924 - accuracy: 0.6926 - val_loss: 0.5834 - val_accuracy: 0.6787\n",
      "Epoch 31/100\n",
      "20/20 [==============================] - 0s 3ms/step - loss: 0.5807 - accuracy: 0.6926 - val_loss: 0.5664 - val_accuracy: 0.6787\n",
      "Epoch 32/100\n",
      "20/20 [==============================] - 0s 3ms/step - loss: 0.5578 - accuracy: 0.6926 - val_loss: 0.5489 - val_accuracy: 0.6787\n",
      "Epoch 33/100\n",
      "20/20 [==============================] - 0s 3ms/step - loss: 0.5473 - accuracy: 0.6926 - val_loss: 0.5302 - val_accuracy: 0.6787\n",
      "Epoch 34/100\n",
      "20/20 [==============================] - 0s 3ms/step - loss: 0.5238 - accuracy: 0.6926 - val_loss: 0.5111 - val_accuracy: 0.6787\n",
      "Epoch 35/100\n",
      "20/20 [==============================] - 0s 3ms/step - loss: 0.5060 - accuracy: 0.6926 - val_loss: 0.4918 - val_accuracy: 0.6787\n",
      "Epoch 36/100\n",
      "20/20 [==============================] - 0s 3ms/step - loss: 0.4965 - accuracy: 0.6926 - val_loss: 0.4734 - val_accuracy: 0.6787\n",
      "Epoch 37/100\n",
      "20/20 [==============================] - 0s 3ms/step - loss: 0.4795 - accuracy: 0.6926 - val_loss: 0.4554 - val_accuracy: 0.6787\n",
      "Epoch 38/100\n",
      "20/20 [==============================] - 0s 3ms/step - loss: 0.4778 - accuracy: 0.6926 - val_loss: 0.4388 - val_accuracy: 0.6787\n",
      "Epoch 39/100\n",
      "20/20 [==============================] - 0s 3ms/step - loss: 0.4419 - accuracy: 0.6926 - val_loss: 0.4229 - val_accuracy: 0.6787\n",
      "Epoch 40/100\n",
      "20/20 [==============================] - 0s 3ms/step - loss: 0.4367 - accuracy: 0.6926 - val_loss: 0.4080 - val_accuracy: 0.6787\n",
      "Epoch 41/100\n",
      "20/20 [==============================] - 0s 3ms/step - loss: 0.4277 - accuracy: 0.6926 - val_loss: 0.3944 - val_accuracy: 0.6787\n",
      "Epoch 42/100\n",
      "20/20 [==============================] - 0s 3ms/step - loss: 0.4034 - accuracy: 0.6965 - val_loss: 0.3813 - val_accuracy: 0.6787\n",
      "Epoch 43/100\n",
      "20/20 [==============================] - 0s 3ms/step - loss: 0.3928 - accuracy: 0.7101 - val_loss: 0.3696 - val_accuracy: 0.6787\n",
      "Epoch 44/100\n",
      "20/20 [==============================] - 0s 3ms/step - loss: 0.3856 - accuracy: 0.7140 - val_loss: 0.3589 - val_accuracy: 0.6787\n",
      "Epoch 45/100\n",
      "20/20 [==============================] - 0s 3ms/step - loss: 0.3807 - accuracy: 0.7179 - val_loss: 0.3492 - val_accuracy: 0.6787\n",
      "Epoch 46/100\n",
      "20/20 [==============================] - 0s 3ms/step - loss: 0.3719 - accuracy: 0.7412 - val_loss: 0.3406 - val_accuracy: 0.6787\n",
      "Epoch 47/100\n",
      "20/20 [==============================] - 0s 3ms/step - loss: 0.3645 - accuracy: 0.7335 - val_loss: 0.3326 - val_accuracy: 0.6787\n",
      "Epoch 48/100\n",
      "20/20 [==============================] - 0s 5ms/step - loss: 0.3604 - accuracy: 0.7471 - val_loss: 0.3255 - val_accuracy: 0.6787\n",
      "Epoch 49/100\n",
      "20/20 [==============================] - 0s 3ms/step - loss: 0.3532 - accuracy: 0.7879 - val_loss: 0.3191 - val_accuracy: 0.6787\n",
      "Epoch 50/100\n",
      "20/20 [==============================] - 0s 3ms/step - loss: 0.3413 - accuracy: 0.7879 - val_loss: 0.3133 - val_accuracy: 0.6787\n",
      "Epoch 51/100\n",
      "20/20 [==============================] - 0s 3ms/step - loss: 0.3346 - accuracy: 0.7782 - val_loss: 0.3079 - val_accuracy: 0.6787\n",
      "Epoch 52/100\n",
      "20/20 [==============================] - 0s 3ms/step - loss: 0.3354 - accuracy: 0.7996 - val_loss: 0.3029 - val_accuracy: 0.6968\n",
      "Epoch 53/100\n",
      "20/20 [==============================] - 0s 3ms/step - loss: 0.3297 - accuracy: 0.7821 - val_loss: 0.2983 - val_accuracy: 0.7376\n",
      "Epoch 54/100\n",
      "20/20 [==============================] - 0s 3ms/step - loss: 0.3218 - accuracy: 0.7977 - val_loss: 0.2942 - val_accuracy: 0.7783\n",
      "Epoch 55/100\n",
      "20/20 [==============================] - 0s 3ms/step - loss: 0.3236 - accuracy: 0.7977 - val_loss: 0.2904 - val_accuracy: 0.8507\n",
      "Epoch 56/100\n",
      "20/20 [==============================] - 0s 3ms/step - loss: 0.3163 - accuracy: 0.7977 - val_loss: 0.2867 - val_accuracy: 0.8959\n",
      "Epoch 57/100\n",
      "20/20 [==============================] - 0s 3ms/step - loss: 0.3148 - accuracy: 0.7977 - val_loss: 0.2832 - val_accuracy: 0.9321\n",
      "Epoch 58/100\n",
      "20/20 [==============================] - 0s 3ms/step - loss: 0.3138 - accuracy: 0.8074 - val_loss: 0.2801 - val_accuracy: 0.9412\n",
      "Epoch 59/100\n",
      "20/20 [==============================] - 0s 3ms/step - loss: 0.2954 - accuracy: 0.8191 - val_loss: 0.2769 - val_accuracy: 0.9548\n",
      "Epoch 60/100\n",
      "20/20 [==============================] - 0s 3ms/step - loss: 0.3044 - accuracy: 0.7918 - val_loss: 0.2741 - val_accuracy: 0.9548\n",
      "Epoch 61/100\n",
      "20/20 [==============================] - 0s 3ms/step - loss: 0.2886 - accuracy: 0.8152 - val_loss: 0.2714 - val_accuracy: 0.9548\n",
      "Epoch 62/100\n",
      "20/20 [==============================] - 0s 3ms/step - loss: 0.2913 - accuracy: 0.8054 - val_loss: 0.2688 - val_accuracy: 0.9548\n",
      "Epoch 63/100\n",
      "20/20 [==============================] - 0s 3ms/step - loss: 0.2860 - accuracy: 0.7996 - val_loss: 0.2666 - val_accuracy: 0.9548\n",
      "Epoch 64/100\n",
      "20/20 [==============================] - 0s 3ms/step - loss: 0.2933 - accuracy: 0.7899 - val_loss: 0.2641 - val_accuracy: 0.9593\n",
      "Epoch 65/100\n",
      "20/20 [==============================] - 0s 3ms/step - loss: 0.2904 - accuracy: 0.7879 - val_loss: 0.2620 - val_accuracy: 0.9593\n",
      "Epoch 66/100\n",
      "20/20 [==============================] - 0s 3ms/step - loss: 0.2829 - accuracy: 0.8074 - val_loss: 0.2600 - val_accuracy: 0.9593\n",
      "Epoch 67/100\n",
      "20/20 [==============================] - 0s 3ms/step - loss: 0.2813 - accuracy: 0.8152 - val_loss: 0.2577 - val_accuracy: 0.9593\n",
      "Epoch 68/100\n",
      "20/20 [==============================] - 0s 3ms/step - loss: 0.2847 - accuracy: 0.8346 - val_loss: 0.2556 - val_accuracy: 0.9593\n",
      "Epoch 69/100\n",
      "20/20 [==============================] - 0s 3ms/step - loss: 0.2736 - accuracy: 0.7899 - val_loss: 0.2535 - val_accuracy: 0.9593\n",
      "Epoch 70/100\n",
      "20/20 [==============================] - 0s 3ms/step - loss: 0.2619 - accuracy: 0.8113 - val_loss: 0.2516 - val_accuracy: 0.9593\n",
      "Epoch 71/100\n",
      "20/20 [==============================] - 0s 3ms/step - loss: 0.2631 - accuracy: 0.7957 - val_loss: 0.2496 - val_accuracy: 0.9593\n",
      "Epoch 72/100\n",
      "20/20 [==============================] - 0s 3ms/step - loss: 0.2612 - accuracy: 0.7782 - val_loss: 0.2481 - val_accuracy: 0.9593\n",
      "Epoch 73/100\n",
      "20/20 [==============================] - 0s 3ms/step - loss: 0.2638 - accuracy: 0.7821 - val_loss: 0.2462 - val_accuracy: 0.9593\n",
      "Epoch 74/100\n",
      "20/20 [==============================] - 0s 3ms/step - loss: 0.2566 - accuracy: 0.8054 - val_loss: 0.2439 - val_accuracy: 0.9593\n",
      "Epoch 75/100\n",
      "20/20 [==============================] - 0s 2ms/step - loss: 0.2626 - accuracy: 0.8132 - val_loss: 0.2423 - val_accuracy: 0.9593\n",
      "Epoch 76/100\n",
      "20/20 [==============================] - 0s 3ms/step - loss: 0.2553 - accuracy: 0.8054 - val_loss: 0.2404 - val_accuracy: 0.9593\n",
      "Epoch 77/100\n",
      "20/20 [==============================] - 0s 3ms/step - loss: 0.2499 - accuracy: 0.8074 - val_loss: 0.2387 - val_accuracy: 0.9593\n",
      "Epoch 78/100\n",
      "20/20 [==============================] - 0s 3ms/step - loss: 0.2511 - accuracy: 0.8171 - val_loss: 0.2367 - val_accuracy: 0.9638\n",
      "Epoch 79/100\n",
      "20/20 [==============================] - 0s 3ms/step - loss: 0.2641 - accuracy: 0.7879 - val_loss: 0.2352 - val_accuracy: 0.9638\n",
      "Epoch 80/100\n",
      "20/20 [==============================] - 0s 3ms/step - loss: 0.2502 - accuracy: 0.8152 - val_loss: 0.2332 - val_accuracy: 0.9638\n",
      "Epoch 81/100\n",
      "20/20 [==============================] - 0s 3ms/step - loss: 0.2455 - accuracy: 0.8132 - val_loss: 0.2314 - val_accuracy: 0.9638\n",
      "Epoch 82/100\n",
      "20/20 [==============================] - 0s 3ms/step - loss: 0.2412 - accuracy: 0.8152 - val_loss: 0.2298 - val_accuracy: 0.9638\n",
      "Epoch 83/100\n",
      "20/20 [==============================] - 0s 3ms/step - loss: 0.2473 - accuracy: 0.8074 - val_loss: 0.2283 - val_accuracy: 0.9638\n",
      "Epoch 84/100\n",
      "20/20 [==============================] - 0s 3ms/step - loss: 0.2444 - accuracy: 0.8288 - val_loss: 0.2264 - val_accuracy: 0.9638\n",
      "Epoch 85/100\n",
      "20/20 [==============================] - 0s 3ms/step - loss: 0.2399 - accuracy: 0.8054 - val_loss: 0.2245 - val_accuracy: 0.9638\n",
      "Epoch 86/100\n",
      "20/20 [==============================] - 0s 3ms/step - loss: 0.2439 - accuracy: 0.8054 - val_loss: 0.2227 - val_accuracy: 0.9638\n",
      "Epoch 87/100\n",
      "20/20 [==============================] - 0s 3ms/step - loss: 0.2297 - accuracy: 0.8152 - val_loss: 0.2213 - val_accuracy: 0.9638\n",
      "Epoch 88/100\n",
      "20/20 [==============================] - 0s 3ms/step - loss: 0.2334 - accuracy: 0.8230 - val_loss: 0.2188 - val_accuracy: 0.9638\n",
      "Epoch 89/100\n",
      "20/20 [==============================] - 0s 3ms/step - loss: 0.2307 - accuracy: 0.8249 - val_loss: 0.2168 - val_accuracy: 0.9638\n",
      "Epoch 90/100\n",
      "20/20 [==============================] - 0s 3ms/step - loss: 0.2413 - accuracy: 0.8677 - val_loss: 0.2156 - val_accuracy: 0.9638\n",
      "Epoch 91/100\n",
      "20/20 [==============================] - 0s 3ms/step - loss: 0.2446 - accuracy: 0.9202 - val_loss: 0.2143 - val_accuracy: 0.9638\n",
      "Epoch 92/100\n",
      "20/20 [==============================] - 0s 3ms/step - loss: 0.2286 - accuracy: 0.9280 - val_loss: 0.2126 - val_accuracy: 0.9638\n",
      "Epoch 93/100\n",
      "20/20 [==============================] - 0s 3ms/step - loss: 0.2275 - accuracy: 0.9339 - val_loss: 0.2104 - val_accuracy: 0.9638\n",
      "Epoch 94/100\n",
      "20/20 [==============================] - 0s 3ms/step - loss: 0.2295 - accuracy: 0.9222 - val_loss: 0.2081 - val_accuracy: 0.9638\n",
      "Epoch 95/100\n",
      "20/20 [==============================] - 0s 3ms/step - loss: 0.2255 - accuracy: 0.9397 - val_loss: 0.2070 - val_accuracy: 0.9638\n",
      "Epoch 96/100\n",
      "20/20 [==============================] - 0s 3ms/step - loss: 0.2268 - accuracy: 0.9377 - val_loss: 0.2052 - val_accuracy: 0.9638\n",
      "Epoch 97/100\n",
      "20/20 [==============================] - 0s 3ms/step - loss: 0.2189 - accuracy: 0.9494 - val_loss: 0.2037 - val_accuracy: 0.9638\n",
      "Epoch 98/100\n",
      "20/20 [==============================] - 0s 2ms/step - loss: 0.2185 - accuracy: 0.9183 - val_loss: 0.2019 - val_accuracy: 0.9638\n",
      "Epoch 99/100\n",
      "20/20 [==============================] - 0s 3ms/step - loss: 0.2212 - accuracy: 0.9280 - val_loss: 0.1998 - val_accuracy: 0.9638\n",
      "Epoch 100/100\n",
      "20/20 [==============================] - 0s 3ms/step - loss: 0.2059 - accuracy: 0.9514 - val_loss: 0.1978 - val_accuracy: 0.9638\n"
     ]
    }
   ],
   "source": [
    "#Early stopping\n",
    "early_stopping = EarlyStopping(\n",
    "    min_delta=0.001, # minimium amount of change to count as an improvement\n",
    "    patience=20, # how many epochs to wait before stopping\n",
    "    restore_best_weights=True,\n",
    ")\n",
    "\n",
    "# Initialising the NN\n",
    "model = Sequential()\n",
    "\n",
    "# layers\n",
    "\n",
    "model.add(Dense(units=32, kernel_initializer='uniform', activation='relu', input_dim=x_train.shape[1]))\n",
    "\n",
    "\n",
    "model.add(Dense(units = 32, kernel_initializer = 'uniform', activation = 'relu'))\n",
    "model.add(Dense(units = 16, kernel_initializer = 'uniform', activation = 'relu'))\n",
    "model.add(Dropout(0.5))\n",
    "\n",
    "model.add(Dense(units = 8, kernel_initializer = 'uniform', activation = 'relu'))\n",
    "model.add(Dropout(0.5))\n",
    "\n",
    "model.add(Dense(units = 1, kernel_initializer = 'uniform', activation = 'sigmoid'))\n",
    "\n",
    "model.add(Flatten())\n",
    "\n",
    "opt = Adam(learning_rate=0.00009)\n",
    "model.compile(optimizer = opt, loss = 'binary_crossentropy', metrics = ['accuracy'])\n",
    "\n",
    "# Train the ANN\n",
    "history = model.fit(x_train, y_train, batch_size = 26, epochs = 100, callbacks=[early_stopping], validation_split=0.3)\n"
   ]
  },
  {
   "cell_type": "code",
   "execution_count": 24,
   "metadata": {},
   "outputs": [
    {
     "data": {
      "image/png": "[encoded data removed]",
      "text/plain": [
       "<Figure size 640x480 with 1 Axes>"
      ]
     },
     "metadata": {},
     "output_type": "display_data"
    }
   ],
   "source": [
    "history_df = pd.DataFrame(history.history)\n",
    "\n",
    "plt.plot(history_df.loc[:, ['loss']], label='Training loss')\n",
    "plt.plot(history_df.loc[:, ['val_loss']], label='Validation loss')\n",
    "plt.title('Training and Validation loss')\n",
    "plt.xlabel('Epochs')\n",
    "plt.ylabel('Loss')\n",
    "plt.legend(loc=\"best\")\n",
    "\n",
    "plt.show()"
   ]
  },
  {
   "cell_type": "code",
   "execution_count": 26,
   "metadata": {},
   "outputs": [
    {
     "data": {
      "image/png": "[encoded data removed]",
      "text/plain": [
       "<Figure size 640x480 with 1 Axes>"
      ]
     },
     "metadata": {},
     "output_type": "display_data"
    }
   ],
   "source": [
    "history_df = pd.DataFrame(history.history)\n",
    "\n",
    "plt.plot(history_df.loc[:, ['accuracy']], label='Training Accuracy')\n",
    "plt.plot(history_df.loc[:, ['val_accuracy']], label='Validation Accuracy')\n",
    "\n",
    "plt.title('Double Howe Training and Validation Accuracy')\n",
    "plt.xlabel('Epochs')\n",
    "plt.ylabel('Accuracy')\n",
    "plt.legend()\n",
    "plt.show()"
   ]
  },
  {
   "cell_type": "code",
   "execution_count": null,
   "metadata": {},
   "outputs": [],
   "source": [
    "x_test = np.asarray(x_test).astype('float32')"
   ]
  },
  {
   "cell_type": "code",
   "execution_count": null,
   "metadata": {},
   "outputs": [],
   "source": [
    "y_pred = model.predict(sc.transform([[6600, 35, 15]]))\n",
    "y_pred_classes = (y_pred > 0.5).astype(int)\n",
    "y_pred_classes "
   ]
  },
  {
   "cell_type": "markdown",
   "metadata": {},
   "source": [
    "# Predict New Data"
   ]
  },
  {
   "cell_type": "code",
   "execution_count": null,
   "metadata": {},
   "outputs": [],
   "source": [
    "#Prediksid data baru\n",
    "\n",
    "Kecepatan = []\n",
    "Sudut = []\n",
    "Panjang = []\n",
    "CFSR = []\n",
    "\n",
    "N_batang_bawah = 6\n",
    "\n",
    "for segment in range (1100,1400,100):\n",
    "    panjang = segment * N_batang_bawah\n",
    "    for kec_angin in range (10, 501, 5):\n",
    "        kec_angin = kec_angin/10   \n",
    "        for sudut in range (15, 46, 1):\n",
    "\n",
    "            Kecepatan.append(kec_angin)\n",
    "            Sudut.append(sudut)\n",
    "            Panjang.append(panjang)\n",
    "            y_pred = model.predict(sc.transform([[panjang, kec_angin, sudut]]))\n",
    "            y_pred_classes = (y_pred > 0.5).astype(int)\n",
    "            CFSR.append(y_pred_classes)\n",
    "\n",
    "data ={\n",
    "    'Panjang' : Panjang,\n",
    "    'Kecepatan Angin': Kecepatan,\n",
    "    'Sudut' : Sudut,\n",
    "    'Aman Terhadap Penampang' : CFSR\n",
    "} \n",
    "\n",
    "data = pd.DataFrame(data)"
   ]
  },
  {
   "cell_type": "code",
   "execution_count": null,
   "metadata": {},
   "outputs": [],
   "source": [
    "data"
   ]
  },
  {
   "cell_type": "code",
   "execution_count": null,
   "metadata": {},
   "outputs": [],
   "source": [
    "data.to_csv('C:/Users/febyf/Documents/SAP 25 TES/ANN Double Howe Baru')"
   ]
  }
 ],
 "metadata": {
  "kernelspec": {
   "display_name": "Python 3",
   "language": "python",
   "name": "python3"
  },
  "language_info": {
   "codemirror_mode": {
    "name": "ipython",
    "version": 3
   },
   "file_extension": ".py",
   "mimetype": "text/x-python",
   "name": "python",
   "nbconvert_exporter": "python",
   "pygments_lexer": "ipython3",
   "version": "3.11.4"
  }
 },
 "nbformat": 4,
 "nbformat_minor": 2
}
